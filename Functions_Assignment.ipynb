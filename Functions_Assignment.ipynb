{
  "nbformat": 4,
  "nbformat_minor": 0,
  "metadata": {
    "colab": {
      "provenance": []
    },
    "kernelspec": {
      "name": "python3",
      "display_name": "Python 3"
    },
    "language_info": {
      "name": "python"
    }
  },
  "cells": [
    {
      "cell_type": "markdown",
      "source": [
        "## Theoretical Questions\n",
        "\n",
        "### 1. What is the difference between a function and a method in Python ?\n",
        "    Function: Function is an independent block of code that performs a task and can be called by its name. Functions are typically independent.\n",
        "    Example:\n",
        "    def greet (name):\n",
        "    return f\"Hello, {name}\"\n",
        "    print(greet(Nitesh))\n",
        "\n",
        "    Output: Hello, Nitesh\n",
        "\n",
        "    Method: Method is a functioon associated with an object and it operates on that object's data. So methods are Object-specific.\n",
        "    Example:\n",
        "    greet = \"hello\"\n",
        "    print(greet.upper())\n",
        "\n",
        "    Output: HELLO\n",
        "\n",
        "\n",
        "### 2. Explain the concept of function arguments and parameters in Python.\n",
        "    Parameters are the variable names listed in a function's definition.\n",
        "    def greet(name):\n",
        "    print(\"Hello\", name)\n",
        "    Arguments are the actual values passed to the function when it is called.\n",
        "    greet(\"Nitesh\")\n",
        "\n",
        "\n",
        "### 3.  What are the different ways to define and call a function in Python ?\n",
        "     1. Standard Function Definition:\n",
        "    def greet(name):\n",
        "    return f\"Hello, {name}\"\n",
        "    print(greet(\"Nitesh\"))\n",
        "\n",
        "    2. Function with default Arguments:\n",
        "    def greeting(name='Guest'):\n",
        "    return f\"Hello, {name}\"\n",
        "\n",
        "    print(greeting())\n",
        "    print(greeting(\"Nitesh\"))\n",
        "\n",
        "    Function with vaiable Arguments:\n",
        "    def add_all(args):\n",
        "    return sum(args)\n",
        "    print(add_all(1,2,3,4))\n",
        "\n",
        "    lambda Function:\n",
        "    square = lambda x:x2\n",
        "    print(square(5))\n",
        "\n",
        "    Output: Hello, Nitesh\n",
        "\n",
        "          Hello, Guest\n",
        "          Hello, Nitesh\n",
        "          10\n",
        "          25\n",
        "\n",
        "### 4.  What is the purpose of the return statement in a Python function ?\n",
        "    The  'return' statement in Python is used to deliver a result. It ends the  function's execution.\n",
        "    Example:\n",
        "    def add(a,b):\n",
        "    return a + b\n",
        "\n",
        "    result = add(3,4)\n",
        "    print(result)\n",
        "\n",
        "    Output: 7\n",
        "\n",
        "### 5. What are iterators in Python and how do they differ from iterables ?\n",
        "    Iterable: Any python object that can loop over (like - list, tuple, dict, set, str). It implements the '__iter__()' method.\n",
        "    my_list = [1,2,3]\n",
        "    Iterator: An object that produces values one at a time using '__next__()' and remembers where it left off. It's created from an iterable using 'iter()'.\n",
        "    my_iter = iter(my_list)\n",
        "    print(next(my_iter))\n",
        "    print(next(my_iter))\n",
        "\n",
        "\n",
        "### 6.  Explain the concept of generators in Python and how they are defined.\n",
        "    Generator: a special type of iterator in Python that yields values one at a time using the 'yield' keyword instead of 'return'. It's memory-efficient way to produce large sequences without storing them all in memory.\n",
        "    Example:\n",
        "    def count_up_to(n):\n",
        "    count = 1\n",
        "    while count<= n:\n",
        "        yield count\n",
        "        count += 1\n",
        "        \n",
        "    print(count_up_to(6))\n",
        "    for num in count_up_to(6):\n",
        "    print(num, end=' ')\n",
        "\n",
        "    Output: 1 2 3 4 5 6\n",
        "\n",
        "\n",
        "### 7.  What are the advantages of using generators over regular functions ?\n",
        "     1. Memory Efficiency : Generators yield one items at a time instead of storing the entire result in memory.\n",
        "     2. Improved Performance : No need to compute all results upfront, which saves time and processing power.\n",
        "     3. Lazy Evaluation : Values are generated only when needed, which improves performance.\n",
        "\n",
        "\n",
        "### 8.  What is a lambda function in Python and when is it typically used ?\n",
        "    lambda Function is an anonnymous, one-line function using 'lambda' keyword.\n",
        "    It is typically used for short, simple operations that don't require a full 'def' block.\n",
        "    square =lambda x:x2\n",
        "    print(square(5))\n",
        "\n",
        "    Output: 25\n",
        "\n",
        "\n",
        "### 9.  Explain the purpose and usage of the `map()` function in Python.\n",
        "    The 'map()' function is used to apply a function to every item in an iterable(like  a list or tuple) and return a new map object (an iterator) with the transformed values.\n",
        "\n",
        "    map(function, iterable)\n",
        "    numbers = [1,2,3,4]\n",
        "    squares = map(lambda x: x2, numbers)\n",
        "    print(list(squares))\n",
        "\n",
        "    Output: [1, 4, 9, 16]\n",
        "\n",
        "\n",
        "### 10. What is the difference between `map()`, `reduce()`, and `filter()` functions in Python ?\n",
        "    1. map : Returns a new iterator by applying the given function to each item in the input iterable.\n",
        "     Purpose : Transformation\n",
        "     Example : map(lambda x:x2, [1,2,3]) → [1,4,6]\n",
        "\n",
        "    2. filter : Returns a new iterator containing only those items from the iterable for which the function returns 'True'.\n",
        "     Purpose : Selection\n",
        "     Example : filter(lambda x: x>2, [1,2,3] → [3] )\n",
        "\n",
        "    3. reduce : Applies the function cumulatively to the items in the iterable, so as to reduce it to a single value.\n",
        "     Purpose : Aggregattion\n",
        "     Example : reduce(lambda x,y: x+y, [1,2,3] → 6 )\n",
        "\n",
        "\n",
        "### 11.  Using pen & Paper write the internal mechanism for sum operation using  reduce function on this given list:[47,11,42,13];\n",
        "    f(x,y) = x+y\n",
        "    (1) Step1: 47 + 11 = 58\n",
        "    (2) Step2: 58 + 42 = 100\n",
        "    (3) Step3: 100 + 13 = 113\n",
        "\n",
        "\n",
        "##  Practical Questions\n",
        "\n"
      ],
      "metadata": {
        "id": "ldRDUgDjR3YI"
      }
    },
    {
      "cell_type": "code",
      "source": [
        "# Write a Python function that takes a list of numbers as input and returns the sum of all even numbers in the list.\n",
        "\n",
        "def sum_of_even(numbers):\n",
        "    total = 0\n",
        "    for num in numbers:\n",
        "        if num % 2 == 0:\n",
        "            total += num\n",
        "    return total\n",
        "\n",
        "nums = [1, 2, 3, 4, 5, 6]\n",
        "print(sum_of_even(nums))\n",
        "\n"
      ],
      "metadata": {
        "id": "FRSi000VpQSc",
        "colab": {
          "base_uri": "https://localhost:8080/"
        },
        "outputId": "7c686522-2ebc-4220-cdf4-24be521dd456"
      },
      "execution_count": null,
      "outputs": [
        {
          "output_type": "stream",
          "name": "stdout",
          "text": [
            "12\n"
          ]
        }
      ]
    },
    {
      "cell_type": "code",
      "source": [
        "# Create a Python function that accepts a string and returns the reverse of that string\n",
        "\n",
        "def reverse_string(text):\n",
        "    return text[::-1]\n",
        "word = \"Hello\"\n",
        "print(reverse_string(word))\n"
      ],
      "metadata": {
        "id": "vmAtxGZcpq29",
        "colab": {
          "base_uri": "https://localhost:8080/"
        },
        "outputId": "e3e61381-f62e-421d-944a-7be51ef020e2"
      },
      "execution_count": null,
      "outputs": [
        {
          "output_type": "stream",
          "name": "stdout",
          "text": [
            "olleH\n"
          ]
        }
      ]
    },
    {
      "cell_type": "code",
      "source": [
        "# Implement a Python function that takes a list of integers and returns a new list containing the squares of each number.\n",
        "\n",
        "def square_numbers(numbers):\n",
        "    squared = []\n",
        "    for num in numbers:\n",
        "        squared.append(num ** 2)\n",
        "    return squared\n",
        "nums = [1, 2, 3, 4, 5]\n",
        "print(square_numbers(nums))"
      ],
      "metadata": {
        "colab": {
          "base_uri": "https://localhost:8080/"
        },
        "id": "T87Dh11EqyST",
        "outputId": "08187ff4-23de-4539-d0bf-036833888245"
      },
      "execution_count": null,
      "outputs": [
        {
          "output_type": "stream",
          "name": "stdout",
          "text": [
            "[1, 4, 9, 16, 25]\n"
          ]
        }
      ]
    },
    {
      "cell_type": "code",
      "source": [
        "# Write a Python function that checks if a given number is prime or not from 1 to 200.\n",
        "\n",
        "def is_prime(num):\n",
        "    if num < 2:\n",
        "        return False\n",
        "    for i in range(2, int(num ** 0.5) + 1):\n",
        "        if num % i == 0:\n",
        "            return False\n",
        "    return True\n",
        "\n",
        "for n in range(1, 201):\n",
        "    if is_prime(n):\n",
        "        print(n, end=\" \")\n"
      ],
      "metadata": {
        "colab": {
          "base_uri": "https://localhost:8080/"
        },
        "id": "JdWCV-Xgq-ov",
        "outputId": "73d5da5a-a633-495e-c2ac-3d6b27155e08"
      },
      "execution_count": null,
      "outputs": [
        {
          "output_type": "stream",
          "name": "stdout",
          "text": [
            "2 3 5 7 11 13 17 19 23 29 31 37 41 43 47 53 59 61 67 71 73 79 83 89 97 101 103 107 109 113 127 131 137 139 149 151 157 163 167 173 179 181 191 193 197 199 "
          ]
        }
      ]
    },
    {
      "cell_type": "code",
      "source": [
        "# Create an iterator class in Python that generates the Fibonacci sequence up to a specified number of terms.\n",
        "\n",
        "class Fibonacci:\n",
        "    def __init__(self, n_terms):\n",
        "        self.n_terms = n_terms\n",
        "        self.count = 0\n",
        "        self.a, self.b = 0, 1\n",
        "\n",
        "    def __iter__(self):\n",
        "        return self\n",
        "\n",
        "    def __next__(self):\n",
        "        if self.count >= self.n_terms:\n",
        "            raise StopIteration\n",
        "        if self.count == 0:\n",
        "            self.count += 1\n",
        "            return self.a\n",
        "        elif self.count == 1:\n",
        "            self.count += 1\n",
        "            return self.b\n",
        "        else:\n",
        "            self.a, self.b = self.b, self.a + self.b\n",
        "            self.count += 1\n",
        "            return self.b\n",
        "fib = Fibonacci(10)\n",
        "for num in fib:\n",
        "    print(num, end=\" \")\n"
      ],
      "metadata": {
        "colab": {
          "base_uri": "https://localhost:8080/"
        },
        "id": "vSPXzocLrHn9",
        "outputId": "58bb78e6-e85c-4112-8203-91b6bb8b72e9"
      },
      "execution_count": null,
      "outputs": [
        {
          "output_type": "stream",
          "name": "stdout",
          "text": [
            "0 1 1 2 3 5 8 13 21 34 "
          ]
        }
      ]
    },
    {
      "cell_type": "code",
      "source": [
        "# Write a generator function in Python that yields the powers of 2 up to a given exponent.\n",
        "\n",
        "def powers_of_two(n):\n",
        "    for i in range(n + 1):\n",
        "        yield 2 ** i\n",
        "for value in powers_of_two(5):\n",
        "    print(value, end=\" \")\n"
      ],
      "metadata": {
        "colab": {
          "base_uri": "https://localhost:8080/"
        },
        "id": "qpaLSwCorWYZ",
        "outputId": "721fc738-208b-422c-8c35-2e1dea63c876"
      },
      "execution_count": null,
      "outputs": [
        {
          "output_type": "stream",
          "name": "stdout",
          "text": [
            "1 2 4 8 16 32 "
          ]
        }
      ]
    },
    {
      "cell_type": "code",
      "source": [
        "# Implement a generator function that reads a file line by line and yields each line as a string.\n",
        "\n",
        "import os\n",
        "print(os.getcwd())\n",
        "\n",
        "def read_file_lines(filename):\n",
        "    with open(filename, \"r\") as file:\n",
        "        for line in file:\n",
        "            yield line.strip()\n",
        "\n",
        "\n"
      ],
      "metadata": {
        "colab": {
          "base_uri": "https://localhost:8080/"
        },
        "id": "iZzzQOJMrhXC",
        "outputId": "52097ed8-ffe2-4eb3-9658-e3627868357a"
      },
      "execution_count": 15,
      "outputs": [
        {
          "output_type": "stream",
          "name": "stdout",
          "text": [
            "/content\n"
          ]
        }
      ]
    },
    {
      "cell_type": "code",
      "source": [
        "# Use a lambda function in Python to sort a list of tuples based on the second element of each tuple.\n",
        "\n",
        "data = [(1, 4), (3, 1), (5, 2), (7, 0)]\n",
        "\n",
        "sorted_data = sorted(data, key=lambda x: x[1])\n",
        "\n",
        "print(sorted_data)\n"
      ],
      "metadata": {
        "id": "AxuL_aKUrtz1",
        "colab": {
          "base_uri": "https://localhost:8080/"
        },
        "outputId": "f1cd91e4-bb2b-4282-c00a-2813337764e9"
      },
      "execution_count": 16,
      "outputs": [
        {
          "output_type": "stream",
          "name": "stdout",
          "text": [
            "[(7, 0), (3, 1), (5, 2), (1, 4)]\n"
          ]
        }
      ]
    },
    {
      "cell_type": "code",
      "source": [
        "# Write a Python program that uses map() to convert a list of temperatures from Celsius to Fahrenheit.\n",
        "\n",
        "# Conversion formula: F = (C * 9/5) + 32\n",
        "celsius = [0, 20, 30, 40, 100]\n",
        "\n",
        "fahrenheit = list(map(lambda c: (c * 9/5) + 32, celsius))\n",
        "\n",
        "print(fahrenheit)\n"
      ],
      "metadata": {
        "colab": {
          "base_uri": "https://localhost:8080/"
        },
        "id": "OHkOSxS0snPg",
        "outputId": "a15bcf3e-beca-430b-c149-a4af2ad16427"
      },
      "execution_count": 17,
      "outputs": [
        {
          "output_type": "stream",
          "name": "stdout",
          "text": [
            "[32.0, 68.0, 86.0, 104.0, 212.0]\n"
          ]
        }
      ]
    },
    {
      "cell_type": "code",
      "source": [
        "# Create a Python program that uses filter() to remove all the vowels from a given string.\n",
        "\n",
        "def remove_vowels(text):\n",
        "    vowels = \"aeiouAEIOU\"\n",
        "    return \"\".join(filter(lambda ch: ch not in vowels, text))\n",
        "\n",
        "# Example usage\n",
        "s = \"Hello World\"\n",
        "print(remove_vowels(s))  # Output: Hll Wrld\n"
      ],
      "metadata": {
        "colab": {
          "base_uri": "https://localhost:8080/"
        },
        "id": "Gb64q1S-syI6",
        "outputId": "c8545ef6-07b9-45af-d8e5-b356f7060046"
      },
      "execution_count": 18,
      "outputs": [
        {
          "output_type": "stream",
          "name": "stdout",
          "text": [
            "Hll Wrld\n"
          ]
        }
      ]
    },
    {
      "cell_type": "code",
      "source": [
        "# Imagine an accounting routine used in a book shop. It works on a list with sublists, which look like this: Write a Python program, which returns a list with 2-tuples. Each tuple consists of the order number and the product of the price per item and the quantity. The product should be increased by 10,- € if the value of the order is smaller than 100,00 €.\n",
        "\n",
        "orders = [\n",
        "    [34587, \"Learning Python, Mark Lutz\", 4, 40.95],\n",
        "    [98762, \"Programming Python, Mark Lutz\", 5, 56.80],\n",
        "    [77226, \"Head First Python, Paul Barry\", 3, 32.95],\n",
        "    [88112, \"Einführung in Python3, Bernd Klein\", 3, 24.99]\n",
        "]\n",
        "\n",
        "def accounting(orders):\n",
        "    result = []\n",
        "    for order in orders:\n",
        "        order_num, _, quantity, price = order\n",
        "        total = quantity * price\n",
        "        if total < 100:\n",
        "            total += 10\n",
        "        result.append((order_num, round(total, 2)))\n",
        "    return result\n",
        "\n",
        "print(accounting(orders))\n"
      ],
      "metadata": {
        "colab": {
          "base_uri": "https://localhost:8080/"
        },
        "id": "-1qJ9Oqhs-dA",
        "outputId": "daabe9bb-d874-4709-99ed-650522445268"
      },
      "execution_count": 19,
      "outputs": [
        {
          "output_type": "stream",
          "name": "stdout",
          "text": [
            "[(34587, 163.8), (98762, 284.0), (77226, 108.85), (88112, 84.97)]\n"
          ]
        }
      ]
    }
  ]
}